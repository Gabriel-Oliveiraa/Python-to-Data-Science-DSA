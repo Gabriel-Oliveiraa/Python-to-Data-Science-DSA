{
 "cells": [
  {
   "cell_type": "code",
   "execution_count": null,
   "id": "8758cf36",
   "metadata": {},
   "outputs": [],
   "source": [
    "2 + 2"
   ]
  },
  {
   "cell_type": "code",
   "execution_count": null,
   "id": "b102a300",
   "metadata": {},
   "outputs": [],
   "source": [
    "print('Olá Mundo!')"
   ]
  },
  {
   "cell_type": "markdown",
   "id": "73ff3ec4",
   "metadata": {},
   "source": [
    "//Gere código Python que crie uma lista com os números entre 1 e 100 e então imprima os números pares, mas somente  se o número for divisível por 4."
   ]
  },
  {
   "cell_type": "code",
   "execution_count": null,
   "id": "5741de71",
   "metadata": {},
   "outputs": [],
   "source": [
    "# Cria uma lista com os números entre 1 e 100\n",
    "numeros = list(range(1, 101))"
   ]
  },
  {
   "cell_type": "code",
   "execution_count": null,
   "id": "2dd5a17c",
   "metadata": {},
   "outputs": [],
   "source": [
    "type(numeros)"
   ]
  },
  {
   "cell_type": "code",
   "execution_count": null,
   "id": "3cdfd1ba",
   "metadata": {},
   "outputs": [],
   "source": [
    "# Percorre a lista e verifica se o número é par e divisível por 4\n",
    "for numero in numeros:\n",
    "    if numero % 2 == 0 and numero % 4 == 0:\n",
    "        print(numero)\n"
   ]
  },
  {
   "cell_type": "markdown",
   "id": "2bb15566",
   "metadata": {},
   "source": [
    "//Gere código Python que crie uma lista com os números entre 1 e 100 e então imprima os números pares, mas somente  se o número for divisível por 4, usando list comprehension."
   ]
  },
  {
   "cell_type": "code",
   "execution_count": null,
   "id": "3f66147a",
   "metadata": {},
   "outputs": [],
   "source": [
    "# Cria uma lista com os números entre 1 e 100\n",
    "numeros = list(range(1, 101))\n",
    "\n",
    "# Usa a list comprehension para gerar uma lista somente com os números pares e divisíveis por 4\n",
    "pares_div4 = [numero for numero in numeros if numero % 2 == 0 and numero % 4 == 0]\n",
    "\n",
    "# Imprime a lista gerada\n",
    "print(pares_div4)\n"
   ]
  },
  {
   "cell_type": "code",
   "execution_count": null,
   "id": "d77ff33d",
   "metadata": {},
   "outputs": [],
   "source": [
    "type(pares_div4)"
   ]
  }
 ],
 "metadata": {
  "kernelspec": {
   "display_name": "Python 3 (ipykernel)",
   "language": "python",
   "name": "python3"
  },
  "language_info": {
   "codemirror_mode": {
    "name": "ipython",
    "version": 3
   },
   "file_extension": ".py",
   "mimetype": "text/x-python",
   "name": "python",
   "nbconvert_exporter": "python",
   "pygments_lexer": "ipython3",
   "version": "3.9.13"
  }
 },
 "nbformat": 4,
 "nbformat_minor": 5
}
