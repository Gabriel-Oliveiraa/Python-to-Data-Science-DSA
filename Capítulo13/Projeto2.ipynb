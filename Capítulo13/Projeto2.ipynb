{
 "cells": [
  {
   "cell_type": "code",
   "execution_count": null,
   "id": "b0d022f0",
   "metadata": {},
   "outputs": [],
   "source": [
    "# Versão da Linguagem Python\n",
    "from platform import python_version\n",
    "print('Versão da Linguagem Python Usada Neste Jupyter Notebook:', python_version())"
   ]
  },
  {
   "cell_type": "code",
   "execution_count": null,
   "id": "b4db14f6",
   "metadata": {},
   "outputs": [],
   "source": [
    "# Imports\n",
    "import numpy as np\n",
    "import pandas as pd\n",
    "import matplotlib.pyplot as plt\n",
    "import seaborn as sns\n",
    "import datetime as dt"
   ]
  },
  {
   "cell_type": "markdown",
   "id": "cba483b3",
   "metadata": {},
   "source": [
    "## Carregando os Dados"
   ]
  },
  {
   "cell_type": "code",
   "execution_count": null,
   "id": "9e9a2f84",
   "metadata": {},
   "outputs": [],
   "source": [
    "# Carrega o dataset\n",
    "df_dsa = pd.read_csv('dados/dataset.csv')"
   ]
  },
  {
   "cell_type": "code",
   "execution_count": null,
   "id": "b2057c0d",
   "metadata": {},
   "outputs": [],
   "source": [
    "# Shape\n",
    "df_dsa.shape"
   ]
  },
  {
   "cell_type": "code",
   "execution_count": null,
   "id": "d2814227",
   "metadata": {
    "scrolled": true
   },
   "outputs": [],
   "source": [
    "# Amostra dos dados\n",
    "df_dsa.head()"
   ]
  },
  {
   "cell_type": "code",
   "execution_count": null,
   "id": "962249af",
   "metadata": {},
   "outputs": [],
   "source": [
    "# Amostra dos dados\n",
    "df_dsa.tail()"
   ]
  },
  {
   "cell_type": "markdown",
   "id": "3f0cf95a",
   "metadata": {},
   "source": [
    "## Análise Exploratória"
   ]
  },
  {
   "cell_type": "code",
   "execution_count": null,
   "id": "7e4c9a2d",
   "metadata": {},
   "outputs": [],
   "source": [
    "# Colunas do conjunto de dados\n",
    "df_dsa.columns"
   ]
  },
  {
   "cell_type": "code",
   "execution_count": null,
   "id": "43e7444e",
   "metadata": {},
   "outputs": [],
   "source": [
    "# Verificando o tipo de dado de cada coluna\n",
    "df_dsa.dtypes"
   ]
  },
  {
   "cell_type": "code",
   "execution_count": null,
   "id": "eec70bba",
   "metadata": {},
   "outputs": [],
   "source": [
    "# Resumo estatístico da coluna com o valor de venda\n",
    "df_dsa['Valor_Venda'].describe()"
   ]
  },
  {
   "cell_type": "code",
   "execution_count": null,
   "id": "b8165a80",
   "metadata": {},
   "outputs": [],
   "source": [
    "# Verificando se há registros duplicados\n",
    "df_dsa[df_dsa.duplicated()]"
   ]
  },
  {
   "cell_type": "code",
   "execution_count": null,
   "id": "936d1045",
   "metadata": {},
   "outputs": [],
   "source": [
    "# Verificando de há valores ausentes\n",
    "df_dsa.isnull().sum()"
   ]
  },
  {
   "cell_type": "code",
   "execution_count": null,
   "id": "4ded149a",
   "metadata": {},
   "outputs": [],
   "source": [
    "df_dsa.head()"
   ]
  },
  {
   "cell_type": "markdown",
   "id": "78c23315",
   "metadata": {},
   "source": [
    "## Pergunta de Negócio 1:\n",
    "\n",
    "### Qual Cidade com Maior Valor de Venda de Produtos da Categoria 'Office Supplies'?"
   ]
  },
  {
   "cell_type": "code",
   "execution_count": null,
   "id": "69296d71",
   "metadata": {},
   "outputs": [],
   "source": [
    "# Primeiro filtramos o dataframe com os registros da categoria que desejamos\n",
    "df_dsa_p1 = df_dsa[df_dsa['Categoria'] == 'Office Supplies']"
   ]
  },
  {
   "cell_type": "code",
   "execution_count": null,
   "id": "3faec6b2",
   "metadata": {},
   "outputs": [],
   "source": [
    "# Em seguida agrupamos por cidade e calculamos o total de valor_venda\n",
    "df_dsa_p1_total = df_dsa_p1.groupby('Cidade')['Valor_Venda'].sum()"
   ]
  },
  {
   "cell_type": "code",
   "execution_count": null,
   "id": "dc18e543",
   "metadata": {},
   "outputs": [],
   "source": [
    "# Então encontramos a cidade com maior valor de venda\n",
    "cidade_maior_venda = df_dsa_p1_total.idxmax()\n",
    "print(\"Cidade com maior valor de venda para 'Office Supplies':\", cidade_maior_venda)"
   ]
  },
  {
   "cell_type": "code",
   "execution_count": null,
   "id": "543561e5",
   "metadata": {},
   "outputs": [],
   "source": [
    "# Para conferir o resultado\n",
    "df_dsa_p1_total.sort_values(ascending = False)"
   ]
  },
  {
   "cell_type": "markdown",
   "id": "b2257a7b",
   "metadata": {},
   "source": [
    "## Pergunta de Negócio 2:\n",
    "\n",
    "### Qual o Total de Vendas Por Data do Pedido?\n",
    "\n",
    "Demonstre o resultado através de um gráfico de barras."
   ]
  },
  {
   "cell_type": "code",
   "execution_count": null,
   "id": "df6ed996",
   "metadata": {},
   "outputs": [],
   "source": [
    "# Calculamos o total de vendas para cada data de pedido\n",
    "df_dsa_p2 = df_dsa.groupby('Data_Pedido')['Valor_Venda'].sum()"
   ]
  },
  {
   "cell_type": "code",
   "execution_count": null,
   "id": "c5c7c4b1",
   "metadata": {},
   "outputs": [],
   "source": [
    "df_dsa_p2.head()"
   ]
  },
  {
   "cell_type": "markdown",
   "id": "2888bdee",
   "metadata": {},
   "source": [
    "Obs: Estamos aqui tratando data de pedido como variável categórica e não como série temporal. Se a pergunta fosse \"ao longo do tempo\" essa resposta não seria a ideal."
   ]
  },
  {
   "cell_type": "code",
   "execution_count": null,
   "id": "d0dddb2a",
   "metadata": {},
   "outputs": [],
   "source": [
    "# Plot\n",
    "plt.figure(figsize = (20, 6))\n",
    "df_dsa_p2.plot(x = 'Data_Pedido', y = 'Valor_Venda', color = 'green')\n",
    "plt.title('Total de Vendas Por Data do Pedido')\n",
    "plt.show()"
   ]
  },
  {
   "cell_type": "markdown",
   "id": "2c27a9db",
   "metadata": {},
   "source": [
    "## Pergunta de Negócio 3:\n",
    "\n",
    "### Qual o Total de Vendas por Estado?\n",
    "\n",
    "Demonstre o resultado através de um gráfico de barras."
   ]
  },
  {
   "cell_type": "code",
   "execution_count": null,
   "id": "2187c6b6",
   "metadata": {},
   "outputs": [],
   "source": [
    "# Agrupamos por estado e calculamos o total de vendas\n",
    "df_dsa_p3 = df_dsa.groupby('Estado')['Valor_Venda'].sum().reset_index()"
   ]
  },
  {
   "cell_type": "code",
   "execution_count": null,
   "id": "000f809e",
   "metadata": {},
   "outputs": [],
   "source": [
    "# Plot\n",
    "plt.figure(figsize = (16, 6))\n",
    "sns.barplot(data = df_dsa_p3, \n",
    "            y = 'Valor_Venda', \n",
    "            x = 'Estado').set(title = 'Vendas Por Estado')\n",
    "plt.xticks(rotation = 80)\n",
    "plt.show()"
   ]
  },
  {
   "cell_type": "markdown",
   "id": "ac63cfc4",
   "metadata": {},
   "source": [
    "## Pergunta de Negócio 4:\n",
    "\n",
    "### Quais São as 10 Cidades com Maior Total de Vendas?\n",
    "\n",
    "Demonstre o resultado através de um gráfico de barras."
   ]
  },
  {
   "cell_type": "code",
   "execution_count": null,
   "id": "042ef540",
   "metadata": {},
   "outputs": [],
   "source": [
    "# Agrupamos por cidade, calculamos o total de vendas e ordenamos listando somente os 10 primeiros registros\n",
    "df_dsa_p4 = df_dsa.groupby('Cidade')['Valor_Venda'].sum().reset_index().sort_values(by = 'Valor_Venda',\n",
    "                                                                                    ascending = False).head(10)"
   ]
  },
  {
   "cell_type": "code",
   "execution_count": null,
   "id": "2398a314",
   "metadata": {},
   "outputs": [],
   "source": [
    "df_dsa_p4.head(10)"
   ]
  },
  {
   "cell_type": "code",
   "execution_count": null,
   "id": "b96b6a84",
   "metadata": {},
   "outputs": [],
   "source": [
    "# Plot\n",
    "plt.figure(figsize = (16, 6))\n",
    "sns.set_palette('coolwarm')\n",
    "sns.barplot(data = df_dsa_p4, \n",
    "            y = 'Valor_Venda', \n",
    "            x = 'Cidade').set(title = 'As 10 Cidades com Maior Total de Vendas')\n",
    "plt.show()"
   ]
  },
  {
   "cell_type": "markdown",
   "id": "4831dc06",
   "metadata": {},
   "source": [
    "## Pergunta de Negócio 5:\n",
    "\n",
    "### Qual Segmento Teve o Maior Total de Vendas?\n",
    "\n",
    "Demonstre o resultado através de um gráfico de pizza."
   ]
  },
  {
   "cell_type": "code",
   "execution_count": null,
   "id": "70c90a68",
   "metadata": {},
   "outputs": [],
   "source": [
    "# Agrupamos por segmento e calculamos o total de vendas\n",
    "df_dsa_p5 = df_dsa.groupby('Segmento')['Valor_Venda'].sum().reset_index().sort_values(by = 'Valor_Venda',\n",
    "                                                                                      ascending = False)"
   ]
  },
  {
   "cell_type": "code",
   "execution_count": null,
   "id": "7454f107",
   "metadata": {},
   "outputs": [],
   "source": [
    "df_dsa_p5.head()"
   ]
  },
  {
   "cell_type": "code",
   "execution_count": null,
   "id": "f1bf8c65",
   "metadata": {},
   "outputs": [],
   "source": [
    "# Função para converter os dados em valor absoluto\n",
    "def autopct_format(values): \n",
    "    def my_format(pct): \n",
    "        total = sum(values) \n",
    "        val = int(round(pct * total / 100.0))\n",
    "        return ' $ {v:d}'.format(v = val)\n",
    "    return my_format"
   ]
  },
  {
   "cell_type": "code",
   "execution_count": null,
   "id": "1ed6acb4",
   "metadata": {},
   "outputs": [],
   "source": [
    "# Plot\n",
    "\n",
    "# Tamanho da figura\n",
    "plt.figure(figsize = (16, 6))\n",
    "\n",
    "# Gráfico de pizza\n",
    "plt.pie(df_dsa_p5['Valor_Venda'], \n",
    "        labels = df_dsa_p5['Segmento'],\n",
    "        autopct = autopct_format(df_dsa_p5['Valor_Venda']),\n",
    "        startangle = 90)\n",
    "\n",
    "# Limpa o círculo central\n",
    "centre_circle = plt.Circle((0, 0), 0.82, fc = 'white')\n",
    "fig = plt.gcf()\n",
    "fig.gca().add_artist(centre_circle)\n",
    "\n",
    "# Labels e anotações\n",
    "plt.annotate(text = 'Total de Vendas: ' + '$ ' + str(int(sum(df_dsa_p5['Valor_Venda']))), xy = (-0.25, 0))\n",
    "plt.title('Total de Vendas Por Segmento')\n",
    "plt.show()"
   ]
  },
  {
   "cell_type": "markdown",
   "id": "8eb0ea56",
   "metadata": {},
   "source": [
    "## Pergunta de Negócio 6 (Desafio Nível Baby):\n",
    "\n",
    "### Qual o Total de Vendas Por Segmento e Por Ano?"
   ]
  },
  {
   "cell_type": "code",
   "execution_count": null,
   "id": "a16de64c",
   "metadata": {},
   "outputs": [],
   "source": [
    "df_dsa.head()"
   ]
  },
  {
   "cell_type": "code",
   "execution_count": null,
   "id": "14f10869",
   "metadata": {},
   "outputs": [],
   "source": [
    "# Convertemos a coluna de data para o tipo datetime para obter o formato adequado\n",
    "df_dsa['Data_Pedido'] = pd.to_datetime(df_dsa['Data_Pedido'], dayfirst = True)"
   ]
  },
  {
   "cell_type": "code",
   "execution_count": null,
   "id": "2e9bc1ea",
   "metadata": {},
   "outputs": [],
   "source": [
    "df_dsa.dtypes"
   ]
  },
  {
   "cell_type": "code",
   "execution_count": null,
   "id": "df107149",
   "metadata": {},
   "outputs": [],
   "source": [
    "# Extraímos o ano criando nova variável\n",
    "df_dsa['Ano'] = df_dsa['Data_Pedido'].dt.year"
   ]
  },
  {
   "cell_type": "code",
   "execution_count": null,
   "id": "bd908319",
   "metadata": {},
   "outputs": [],
   "source": [
    "df_dsa.head()"
   ]
  },
  {
   "cell_type": "code",
   "execution_count": null,
   "id": "ffd16a62",
   "metadata": {},
   "outputs": [],
   "source": [
    "# Total de vendas por segmento e por ano\n",
    "df_dsa_p6 = df_dsa.groupby(['Ano', 'Segmento'])['Valor_Venda'].sum()"
   ]
  },
  {
   "cell_type": "code",
   "execution_count": null,
   "id": "e5e06dd2",
   "metadata": {},
   "outputs": [],
   "source": [
    "df_dsa_p6"
   ]
  },
  {
   "cell_type": "markdown",
   "id": "56fbe644",
   "metadata": {},
   "source": [
    "## Pergunta de Negócio 7 (Desafio Nível Júnior):\n",
    "\n",
    "Os gestores da empresa estão considerando conceder diferentes faixas de descontos e gostariam de fazer uma simulação com base na regra abaixo:\n",
    "\n",
    "- Se o Valor_Venda for maior que 1000 recebe 15% de desconto.\n",
    "- Se o Valor_Venda for menor que 1000 recebe 10% de desconto.\n",
    "\n",
    "### Quantas Vendas Receberiam 15% de Desconto?"
   ]
  },
  {
   "cell_type": "code",
   "execution_count": null,
   "id": "5735af66",
   "metadata": {},
   "outputs": [],
   "source": [
    "# Cria uma nova coluna de acordo com a regra definida acima\n",
    "df_dsa['Desconto'] = np.where(df_dsa['Valor_Venda'] > 1000, 0.15, 0.10)"
   ]
  },
  {
   "cell_type": "code",
   "execution_count": null,
   "id": "41833407",
   "metadata": {},
   "outputs": [],
   "source": [
    "df_dsa.head()"
   ]
  },
  {
   "cell_type": "code",
   "execution_count": null,
   "id": "03e36cd3",
   "metadata": {},
   "outputs": [],
   "source": [
    "# Total por cada valor da variável\n",
    "df_dsa['Desconto'].value_counts()"
   ]
  },
  {
   "cell_type": "code",
   "execution_count": null,
   "id": "d963796c",
   "metadata": {},
   "outputs": [],
   "source": [
    "print('No Total 457 Vendas Receberiam Desconto de 15%.')"
   ]
  },
  {
   "cell_type": "markdown",
   "id": "f313c42a",
   "metadata": {},
   "source": [
    "## Pergunta de Negócio 8 (Desafio Nível Master):\n",
    "\n",
    "### Considere Que a Empresa Decida Conceder o Desconto de 15% do Item Anterior. Qual Seria a Média do Valor de Venda Antes e Depois do Desconto?"
   ]
  },
  {
   "cell_type": "code",
   "execution_count": null,
   "id": "47b8f2a4",
   "metadata": {},
   "outputs": [],
   "source": [
    "# Criamos uma coluna calculando o valor de venda menos o desconto\n",
    "df_dsa['Valor_Venda_Desconto'] = df_dsa['Valor_Venda'] - (df_dsa['Valor_Venda'] * df_dsa['Desconto'])"
   ]
  },
  {
   "cell_type": "code",
   "execution_count": null,
   "id": "98bd7542",
   "metadata": {},
   "outputs": [],
   "source": [
    "df_dsa.head()"
   ]
  },
  {
   "cell_type": "code",
   "execution_count": null,
   "id": "6b37bc77",
   "metadata": {},
   "outputs": [],
   "source": [
    "# Filtrando as vendas antes do desconto de 15%\n",
    "df_dsa_p8_vendas_antes_desconto = df_dsa.loc[df_dsa['Desconto'] == 0.15, 'Valor_Venda']"
   ]
  },
  {
   "cell_type": "code",
   "execution_count": null,
   "id": "935843bf",
   "metadata": {},
   "outputs": [],
   "source": [
    "# Filtrando as vendas depois do desconto de 15%\n",
    "df_dsa_p8_vendas_depois_desconto = df_dsa.loc[df_dsa['Desconto'] == 0.15, 'Valor_Venda_Desconto']"
   ]
  },
  {
   "cell_type": "code",
   "execution_count": null,
   "id": "0ae67125",
   "metadata": {},
   "outputs": [],
   "source": [
    "# Calcula a média das vendas antes do desconto de 15%\n",
    "media_vendas_antes_desconto = df_dsa_p8_vendas_antes_desconto.mean()"
   ]
  },
  {
   "cell_type": "code",
   "execution_count": null,
   "id": "6fa3ba05",
   "metadata": {},
   "outputs": [],
   "source": [
    "# Calcula a média das vendas depois do desconto de 15%\n",
    "media_vendas_depois_desconto = df_dsa_p8_vendas_depois_desconto.mean()"
   ]
  },
  {
   "cell_type": "code",
   "execution_count": null,
   "id": "e01664ba",
   "metadata": {},
   "outputs": [],
   "source": [
    "print(\"Média das vendas antes do desconto de 15%:\", round(media_vendas_antes_desconto, 2))"
   ]
  },
  {
   "cell_type": "code",
   "execution_count": null,
   "id": "1cf824d6",
   "metadata": {},
   "outputs": [],
   "source": [
    "print(\"Média das vendas depois do desconto de 15%:\", round(media_vendas_depois_desconto, 2))"
   ]
  },
  {
   "cell_type": "markdown",
   "id": "149e1214",
   "metadata": {},
   "source": [
    "## Pergunta de Negócio 9 (Desafio Nível Master Ninja):\n",
    "\n",
    "### Qual o Média de Vendas Por Segmento, Por Ano e Por Mês?\n",
    "\n",
    "Demonstre o resultado através de gráfico de linha."
   ]
  },
  {
   "cell_type": "code",
   "execution_count": null,
   "id": "1eed1a02",
   "metadata": {},
   "outputs": [],
   "source": [
    "# Extraímos o mês e gravamos em uma nova variável\n",
    "df_dsa['Mes'] = df_dsa['Data_Pedido'].dt.month"
   ]
  },
  {
   "cell_type": "code",
   "execution_count": null,
   "id": "88d128c7",
   "metadata": {},
   "outputs": [],
   "source": [
    "df_dsa.head()"
   ]
  },
  {
   "cell_type": "code",
   "execution_count": null,
   "id": "f1e1b696",
   "metadata": {},
   "outputs": [],
   "source": [
    "# Agrupamos por ano, mês e segmento e calculamos estatísticas de agregação\n",
    "df_dsa_p9 = df_dsa.groupby(['Ano', 'Mes', 'Segmento'])['Valor_Venda'].agg([np.sum, np.mean, np.median])"
   ]
  },
  {
   "cell_type": "code",
   "execution_count": null,
   "id": "bc73e7fb",
   "metadata": {},
   "outputs": [],
   "source": [
    "df_dsa_p9"
   ]
  },
  {
   "cell_type": "code",
   "execution_count": null,
   "id": "53cc17d4",
   "metadata": {},
   "outputs": [],
   "source": [
    "# Vamos extrair os níveis\n",
    "anos = df_dsa_p9.index.get_level_values(0)\n",
    "meses = df_dsa_p9.index.get_level_values(1)\n",
    "segmentos = df_dsa_p9.index.get_level_values(2)"
   ]
  },
  {
   "cell_type": "markdown",
   "id": "98307b8d",
   "metadata": {},
   "source": [
    "https://seaborn.pydata.org/generated/seaborn.relplot.html"
   ]
  },
  {
   "cell_type": "code",
   "execution_count": null,
   "id": "591fe913",
   "metadata": {},
   "outputs": [],
   "source": [
    "# Plot\n",
    "plt.figure(figsize = (12, 6))\n",
    "sns.set()\n",
    "fig1 = sns.relplot(kind = 'line',\n",
    "                   data = df_dsa_p9, \n",
    "                   y = 'mean', \n",
    "                   x = meses,\n",
    "                   hue = segmentos, \n",
    "                   col = anos,\n",
    "                   col_wrap = 4)\n",
    "plt.show()"
   ]
  },
  {
   "cell_type": "markdown",
   "id": "836ba626",
   "metadata": {},
   "source": [
    "## Pergunta de Negócio 10 (Desafio Nível Master Ninja das Galáxias):\n",
    "\n",
    "### Qual o Total de Vendas Por Categoria e SubCategoria, Considerando Somente as Top 12 SubCategorias? \n",
    "\n",
    "Demonstre tudo através de um único gráfico."
   ]
  },
  {
   "cell_type": "code",
   "execution_count": null,
   "id": "7e7f9439",
   "metadata": {},
   "outputs": [],
   "source": [
    "df_dsa.head()"
   ]
  },
  {
   "cell_type": "code",
   "execution_count": null,
   "id": "53808b99",
   "metadata": {},
   "outputs": [],
   "source": [
    "# Agrupamos por categoria e subcategoria e calculamos a soma somente para variáveus numéricas\n",
    "df_dsa_p10 = df_dsa.groupby(['Categoria',\n",
    "                             'SubCategoria']).sum(numeric_only = True).sort_values('Valor_Venda',\n",
    "                                                                                   ascending = False).head(12)"
   ]
  },
  {
   "cell_type": "code",
   "execution_count": null,
   "id": "c199084c",
   "metadata": {},
   "outputs": [],
   "source": [
    "# Convertemos a coluna Valor_Venda em número inteiro e classificamos por categoria\n",
    "df_dsa_p10 = df_dsa_p10[['Valor_Venda']].astype(int).sort_values(by = 'Categoria').reset_index()"
   ]
  },
  {
   "cell_type": "markdown",
   "id": "ad5478f8",
   "metadata": {},
   "source": [
    "Obs: Classificar o item acima por categoria é importante para preencher o gráfico com as subcategorias para cada categoria de forma ordenada."
   ]
  },
  {
   "cell_type": "code",
   "execution_count": null,
   "id": "b8f85800",
   "metadata": {},
   "outputs": [],
   "source": [
    "# Dataframe com categorias e subcategorias\n",
    "df_dsa_p10"
   ]
  },
  {
   "cell_type": "code",
   "execution_count": null,
   "id": "08ac4ab0",
   "metadata": {},
   "outputs": [],
   "source": [
    "# Criamos outro dataframe somente com os totais por categoria\n",
    "df_dsa_p10_cat = df_dsa_p10.groupby('Categoria').sum(numeric_only = True).reset_index()"
   ]
  },
  {
   "cell_type": "code",
   "execution_count": null,
   "id": "670f2939",
   "metadata": {},
   "outputs": [],
   "source": [
    "# Dataframe com categorias \n",
    "df_dsa_p10_cat"
   ]
  },
  {
   "cell_type": "code",
   "execution_count": null,
   "id": "cba737b4",
   "metadata": {},
   "outputs": [],
   "source": [
    "# Listas de cores para categorias\n",
    "cores_categorias = ['#5d00de',\n",
    "                    '#0ee84f',\n",
    "                    '#e80e27']"
   ]
  },
  {
   "cell_type": "code",
   "execution_count": null,
   "id": "70035a46",
   "metadata": {},
   "outputs": [],
   "source": [
    "# Listas de cores para subcategorias\n",
    "cores_subcategorias = ['#aa8cd4',\n",
    "                       '#aa8cd5',\n",
    "                       '#aa8cd6',\n",
    "                       '#aa8cd7',\n",
    "                       '#26c957',\n",
    "                       '#26c958',\n",
    "                       '#26c959',\n",
    "                       '#26c960',\n",
    "                       '#e65e65',\n",
    "                       '#e65e66',\n",
    "                       '#e65e67',\n",
    "                       '#e65e68']"
   ]
  },
  {
   "cell_type": "code",
   "execution_count": null,
   "id": "0028c025",
   "metadata": {},
   "outputs": [],
   "source": [
    "# Plot\n",
    "\n",
    "# Tamanho da figura\n",
    "fig, ax = plt.subplots(figsize = (18,12))\n",
    "\n",
    "# Gráfico das categorias\n",
    "p1 = ax.pie(df_dsa_p10_cat['Valor_Venda'], \n",
    "            radius = 1,\n",
    "            labels = df_dsa_p10_cat['Categoria'],\n",
    "            wedgeprops = dict(edgecolor = 'white'),\n",
    "            colors = cores_categorias)\n",
    "\n",
    "# Gráfico das subcategorias\n",
    "p2 = ax.pie(df_dsa_p10['Valor_Venda'],\n",
    "            radius = 0.9,\n",
    "            labels = df_dsa_p10['SubCategoria'],\n",
    "            autopct = autopct_format(df_dsa_p10['Valor_Venda']),\n",
    "            colors = cores_subcategorias, \n",
    "            labeldistance = 0.7,\n",
    "            wedgeprops = dict(edgecolor = 'white'), \n",
    "            pctdistance = 0.53,\n",
    "            rotatelabels = True)\n",
    "\n",
    "# Limpa o centro do círculo\n",
    "centre_circle = plt.Circle((0, 0), 0.6, fc = 'white')\n",
    "\n",
    "# Labels e anotações\n",
    "fig = plt.gcf()\n",
    "fig.gca().add_artist(centre_circle)\n",
    "plt.annotate(text = 'Total de Vendas: ' + '$ ' + str(int(sum(df_dsa_p10['Valor_Venda']))), xy = (-0.2, 0))\n",
    "plt.title('Total de Vendas Por Categoria e Top 12 SubCategorias')\n",
    "plt.show()"
   ]
  }
 ],
 "metadata": {
  "kernelspec": {
   "display_name": "Python 3 (ipykernel)",
   "language": "python",
   "name": "python3"
  },
  "language_info": {
   "codemirror_mode": {
    "name": "ipython",
    "version": 3
   },
   "file_extension": ".py",
   "mimetype": "text/x-python",
   "name": "python",
   "nbconvert_exporter": "python",
   "pygments_lexer": "ipython3",
   "version": "3.9.13"
  }
 },
 "nbformat": 4,
 "nbformat_minor": 5
}
